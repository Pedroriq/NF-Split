{
 "cells": [
  {
   "cell_type": "code",
   "execution_count": 2,
   "id": "c935818e-795f-4f1e-91de-3e34bfc4caa7",
   "metadata": {},
   "outputs": [
    {
     "name": "stdout",
     "output_type": "stream",
     "text": [
      "%pylab is deprecated, use %matplotlib inline and import the required libraries.\n",
      "Populating the interactive namespace from numpy and matplotlib\n"
     ]
    }
   ],
   "source": [
    "%pylab notebook"
   ]
  },
  {
   "cell_type": "code",
   "execution_count": 3,
   "id": "dfd95a42-872a-4b1d-9959-2414aa22adfc",
   "metadata": {},
   "outputs": [
    {
     "name": "stdout",
     "output_type": "stream",
     "text": [
      "WARNING:tensorflow:From C:\\Users\\pedro\\AppData\\Local\\Programs\\Python\\Python311\\Lib\\site-packages\\keras\\src\\losses.py:2976: The name tf.losses.sparse_softmax_cross_entropy is deprecated. Please use tf.compat.v1.losses.sparse_softmax_cross_entropy instead.\n",
      "\n"
     ]
    }
   ],
   "source": [
    "import cv2\n",
    "import tensorflow as tf\n",
    "import dlib\n",
    "import pytesseract as ptess"
   ]
  },
  {
   "cell_type": "code",
   "execution_count": 4,
   "id": "d723a6c2-16bc-4599-83b2-71b614bf6f80",
   "metadata": {},
   "outputs": [
    {
     "data": {
      "text/plain": [
       "\u001b[1;31mInit signature:\u001b[0m \u001b[0mtf\u001b[0m\u001b[1;33m.\u001b[0m\u001b[0mGraph\u001b[0m\u001b[1;33m(\u001b[0m\u001b[1;33m)\u001b[0m\u001b[1;33m\u001b[0m\u001b[1;33m\u001b[0m\u001b[0m\n",
       "\u001b[1;31mDocstring:\u001b[0m     \n",
       "A TensorFlow computation, represented as a dataflow graph.\n",
       "\n",
       "Graphs are used by `tf.function`s to represent the function's computations.\n",
       "Each graph contains a set of `tf.Operation` objects, which represent units of\n",
       "computation; and `tf.Tensor` objects, which represent the units of data that\n",
       "flow between operations.\n",
       "\n",
       "### Using graphs directly (deprecated)\n",
       "\n",
       "A `tf.Graph` can be constructed and used directly without a `tf.function`, as\n",
       "was required in TensorFlow 1, but this is deprecated and it is recommended to\n",
       "use a `tf.function` instead. If a graph is directly used, other deprecated\n",
       "TensorFlow 1 classes are also required to execute the graph, such as a\n",
       "`tf.compat.v1.Session`.\n",
       "\n",
       "A default graph can be registered with the `tf.Graph.as_default` context\n",
       "manager. Then, operations will be added to the graph instead of being executed\n",
       "eagerly. For example:\n",
       "\n",
       "```python\n",
       "g = tf.Graph()\n",
       "with g.as_default():\n",
       "  # Define operations and tensors in `g`.\n",
       "  c = tf.constant(30.0)\n",
       "  assert c.graph is g\n",
       "```\n",
       "\n",
       "`tf.compat.v1.get_default_graph()` can be used to obtain the default graph.\n",
       "\n",
       "Important note: This class *is not* thread-safe for graph construction. All\n",
       "operations should be created from a single thread, or external\n",
       "synchronization must be provided. Unless otherwise specified, all methods\n",
       "are not thread-safe.\n",
       "\n",
       "A `Graph` instance supports an arbitrary number of \"collections\"\n",
       "that are identified by name. For convenience when building a large\n",
       "graph, collections can store groups of related objects: for\n",
       "example, the `tf.Variable` uses a collection (named\n",
       "`tf.GraphKeys.GLOBAL_VARIABLES`) for\n",
       "all variables that are created during the construction of a graph. The caller\n",
       "may define additional collections by specifying a new name.\n",
       "\u001b[1;31mInit docstring:\u001b[0m Creates a new, empty Graph.\n",
       "\u001b[1;31mFile:\u001b[0m           c:\\users\\pedro\\appdata\\local\\programs\\python\\python311\\lib\\site-packages\\tensorflow\\python\\framework\\ops.py\n",
       "\u001b[1;31mType:\u001b[0m           type\n",
       "\u001b[1;31mSubclasses:\u001b[0m     FuncGraph, _FuncGraph"
      ]
     },
     "metadata": {},
     "output_type": "display_data"
    }
   ],
   "source": [
    "tf.Graph?"
   ]
  },
  {
   "cell_type": "code",
   "execution_count": 7,
   "id": "a626ff50-f88b-4b4c-8205-a12ea58f8ad7",
   "metadata": {},
   "outputs": [
    {
     "name": "stderr",
     "output_type": "stream",
     "text": [
      "'ls' nÆo ‚ reconhecido como um comando interno\n",
      "ou externo, um programa oper vel ou um arquivo em lotes.\n"
     ]
    }
   ],
   "source": []
  },
  {
   "cell_type": "code",
   "execution_count": null,
   "id": "086a8eae-8b71-4708-9f8e-63df739b9efb",
   "metadata": {},
   "outputs": [],
   "source": []
  }
 ],
 "metadata": {
  "kernelspec": {
   "display_name": "Python 3 (ipykernel)",
   "language": "python",
   "name": "python3"
  },
  "language_info": {
   "codemirror_mode": {
    "name": "ipython",
    "version": 3
   },
   "file_extension": ".py",
   "mimetype": "text/x-python",
   "name": "python",
   "nbconvert_exporter": "python",
   "pygments_lexer": "ipython3",
   "version": "3.11.5"
  }
 },
 "nbformat": 4,
 "nbformat_minor": 5
}
